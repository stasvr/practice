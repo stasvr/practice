{
 "cells": [
  {
   "cell_type": "code",
   "execution_count": 1,
   "metadata": {},
   "outputs": [
    {
     "name": "stderr",
     "output_type": "stream",
     "text": [
      "/home/varshavskiisd/anaconda3/lib/python3.6/site-packages/h5py/__init__.py:34: FutureWarning: Conversion of the second argument of issubdtype from `float` to `np.floating` is deprecated. In future, it will be treated as `np.float64 == np.dtype(float).type`.\n",
      "  from ._conv import register_converters as _register_converters\n",
      "Using TensorFlow backend.\n"
     ]
    }
   ],
   "source": [
    "from keras.datasets import mnist\n",
    "import numpy as np\n",
    "import tensorflow as tf\n",
    "from sklearn.preprocessing import MinMaxScaler\n",
    "from matplotlib import pyplot as plt\n",
    "%matplotlib inline"
   ]
  },
  {
   "cell_type": "code",
   "execution_count": 2,
   "metadata": {
    "collapsed": true
   },
   "outputs": [],
   "source": [
    "data = mnist.load_data()"
   ]
  },
  {
   "cell_type": "code",
   "execution_count": 3,
   "metadata": {
    "collapsed": true
   },
   "outputs": [],
   "source": [
    "num_input = data[0][0][0].shape[0] * data[0][0][0].shape[1] \n",
    "num_hidden = 144\n",
    "epochs = 150\n",
    "batch_size = 250"
   ]
  },
  {
   "cell_type": "code",
   "execution_count": 11,
   "metadata": {
    "collapsed": true
   },
   "outputs": [],
   "source": [
    "tf.reset_default_graph()\n",
    "\n",
    "input_tensor = tf.placeholder(shape=[None, num_input], dtype=tf.float32)\n",
    "\n",
    "weights_encoder = tf.Variable(tf.random_normal([num_input, num_hidden]))\n",
    "bias_encoder = tf.Variable(tf.random_normal([num_hidden]))\n",
    "\n",
    "weights_decoder = tf.Variable(tf.random_normal([num_hidden, num_input]))\n",
    "bias_decoder = tf.Variable(tf.random_normal([num_input]))\n",
    "\n",
    "def encoder(X_real):\n",
    "    return tf.nn.sigmoid(tf.add(tf.matmul(X_real, weights_encoder), bias_encoder))\n",
    "\n",
    "def decoder(X_zip):\n",
    "    return tf.nn.sigmoid(tf.add(tf.matmul(X_zip, weights_decoder), bias_decoder))\n",
    "\n",
    "hidden_tensor = encoder(input_tensor)\n",
    "\n",
    "batch_mean, batch_var = tf.nn.moments(hidden_tensor,[0])\n",
    "\n",
    "scale = tf.Variable(tf.ones([num_hidden]))\n",
    "beta = tf.Variable(tf.zeros([num_hidden]))\n",
    "\n",
    "hidden_tensor = tf.nn.batch_normalization(hidden_tensor, batch_mean, batch_var, beta, scale, 1e-3)\n",
    "\n",
    "output_tensor = decoder(hidden_tensor)\n",
    "\n",
    "loss = tf.reduce_mean(tf.pow(input_tensor - output_tensor, 2))\n",
    "optimizer = tf.train.RMSPropOptimizer(learning_rate=1e-3, decay=3e-8)\n",
    "gvs = optimizer.compute_gradients(loss)\n",
    "optimizer_clipped = optimizer.apply_gradients([(tf.clip_by_value(grad, -1., 1.), var) for grad, var in gvs])"
   ]
  },
  {
   "cell_type": "code",
   "execution_count": 117,
   "metadata": {},
   "outputs": [
    {
     "data": {
      "text/plain": [
       "[[784, 392], [392, 196], [196, 98], [98, 196], [196, 392], [392, 784]]"
      ]
     },
     "execution_count": 117,
     "metadata": {},
     "output_type": "execute_result"
    }
   ],
   "source": [
    "num_hidden = [392, 196, 98]\n",
    "weights_hidden = [[num_hidden[i-1], num_hidden[i]] for i in range(1, len(num_hidden))]\n",
    "weights_hidden += [[num_hidden[i], num_hidden[i-1]] for i in reversed(range(1, len(num_hidden)))]\n",
    "weights_hidden = [[num_input, num_hidden[0]]] + weights_hidden\n",
    "weights_hidden += [[num_hidden[0], num_input]]\n",
    "weights_hidden"
   ]
  },
  {
   "cell_type": "code",
   "execution_count": 118,
   "metadata": {},
   "outputs": [
    {
     "data": {
      "text/plain": [
       "[392, 196, 98, 196, 392, 784]"
      ]
     },
     "execution_count": 118,
     "metadata": {},
     "output_type": "execute_result"
    }
   ],
   "source": [
    "bias_hidden = [num_hidden[i] for i in range(len(num_hidden))]\n",
    "bias_hidden += [num_hidden[i] for i in reversed(range(len(num_hidden)-1))]\n",
    "bias_hidden += [num_input]\n",
    "bias_hidden"
   ]
  },
  {
   "cell_type": "code",
   "execution_count": 135,
   "metadata": {},
   "outputs": [
    {
     "data": {
      "text/plain": [
       "[196, 98, 196, 392]"
      ]
     },
     "execution_count": 135,
     "metadata": {},
     "output_type": "execute_result"
    }
   ],
   "source": [
    "num_hidden[1:] + list(reversed(num_hidden))[1:]"
   ]
  },
  {
   "cell_type": "code",
   "execution_count": 136,
   "metadata": {
    "collapsed": true
   },
   "outputs": [],
   "source": [
    "class AutoEncoder:\n",
    "    \n",
    "    def __init__(self, params):\n",
    "        num_input, num_hidden, b_norm = params['num_input'], params['num_hidden'], params['batch_normalisation']\n",
    "        \n",
    "        # Placeholders and variables used in graph\n",
    "        self._input_tensor = tf.placeholder(shape=(None, 784), dtype=tf.float32)\n",
    "        \n",
    "        weights_hidden = [self.init_VarPair([num_hidden[i-1], num_hidden[i]]) for i in range(1, len(num_hidden))]\n",
    "        weights_hidden += [self.init_VarPair([num_hidden[i], num_hidden[i-1]]) for i in reversed(range(1, len(num_hidden)))]\n",
    "        weights_hidden = [self.init_VarPair([num_input, num_hidden[0]])] + weights_hidden\n",
    "        weights_hidden += [self.init_VarPair([num_hidden[0], num_input])]\n",
    "        \n",
    "        bias_hidden = [self.init_VarSingle(num_hidden[i]) for i in range(len(num_hidden))]\n",
    "        bias_hidden += [self.init_VarSingle(num_hidden[i]) for i in reversed(range(len(num_hidden)-1))]\n",
    "        bias_hidden += [self.init_VarSingle(num_input)]\n",
    "\n",
    "        \n",
    "        # Graph structure\n",
    "        hidden_tensor = self.coder(self._input_tensor, weights_hidden[0], bias_hidden[0])\n",
    "        for i in zip(weights_hidden[1:-1], bias_hidden[1:-1], num_hidden[1:]+list(reversed(num_hidden))[1:]):\n",
    "            if b_norm:\n",
    "                hidden_tensor = self.normalisation(self.coder(hidden_tensor, i[0], i[1]), i[2])\n",
    "            else:\n",
    "                hidden_tensor = self.coder(hidden_tensor, i[0], i[1])\n",
    "        self._output_tensor = self.coder(hidden_tensor, weights_hidden[-1:][0], bias_hidden[-1:][0])\n",
    "        \n",
    "        # Initialisation of loss funstion and optimisation method with constraits for weights changing\n",
    "        self._loss = tf.reduce_mean(tf.pow(self._input_tensor - self._output_tensor, 2))\n",
    "        self._optimizer = tf.train.RMSPropOptimizer(learning_rate=1e-3, decay=3e-8).minimize(self._loss)\n",
    "        \n",
    "    def coder(self, X, w, b):\n",
    "        return tf.nn.sigmoid(tf.add(tf.matmul(X, w), b))\n",
    "    \n",
    "    def normalisation(self, tensor, count):\n",
    "        batch_mean, batch_var = tf.nn.moments(tensor,[0])\n",
    "        scale = tf.Variable(tf.ones([count]))\n",
    "        beta = tf.Variable(tf.zeros([count]))\n",
    "        return tf.nn.batch_normalization(tensor, batch_mean, batch_var, beta, scale, 1e-3)\n",
    "    \n",
    "    def init_VarPair(self, pair):\n",
    "        return tf.Variable(tf.random_normal([pair[0], pair[1]]))\n",
    "\n",
    "    def init_VarSingle(self, value):\n",
    "        return tf.Variable(tf.random_normal([value]))\n",
    "    \n",
    "    @property\n",
    "    def out(self):\n",
    "        return self._output_tensor\n",
    "    \n",
    "    @property\n",
    "    def loss(self):\n",
    "        return self._loss\n",
    "    \n",
    "    @property\n",
    "    def optimize(self):\n",
    "        return self._optimizer\n",
    "        \n",
    "class Process:\n",
    "    \n",
    "    def __init__(self, data, params):\n",
    "        self._epochs, self._batch_size = params['epochs'], params['batch_size']\n",
    "        \n",
    "        init = tf.global_variables_initializer()\n",
    "        \n",
    "        self._sess = tf.Session()\n",
    "        self._sess.run(init)\n",
    "        \n",
    "        self._data, last, self._iterations = list(), 0, int(data.shape[0] / self._batch_size)\n",
    "        for i in range(self._iterations):\n",
    "            if i != 0:\n",
    "                self._data.append(data[last:i*batch_size])\n",
    "                last = i * batch_size\n",
    "    \n",
    "    def run(self, graph):\n",
    "        for i in range(self._epochs):\n",
    "            tmp = iter(self._data)\n",
    "            for j in range(self._iterations-1):\n",
    "                batch = next(tmp)\n",
    "                _, l = self._sess.run([graph.optimize, graph.loss], feed_dict={graph._input_tensor : batch})\n",
    "            if i % 5 == 0:\n",
    "                print('Epoch:', i, 'Loss:', l)"
   ]
  },
  {
   "cell_type": "code",
   "execution_count": null,
   "metadata": {},
   "outputs": [],
   "source": [
    "tf.reset_default_graph()\n",
    "ae = AutoEncoder({\n",
    "    'num_input' : 784,\n",
    "    'num_hidden' : [392, 196, 98, 49],\n",
    "    'batch_normalisation' : True\n",
    "})\n",
    "buff = MinMaxScaler().fit_transform(data[0][0].reshape(data[0][0].shape[0], num_input))\n",
    "process = Process(buff, {'epochs' : 10, 'batch_size' : 250})\n",
    "process.run(ae)"
   ]
  },
  {
   "cell_type": "code",
   "execution_count": 88,
   "metadata": {},
   "outputs": [
    {
     "name": "stderr",
     "output_type": "stream",
     "text": [
      "/opt/conda/lib/python3.6/site-packages/sklearn/utils/validation.py:475: DataConversionWarning: Data with input dtype uint8 was converted to float64 by MinMaxScaler.\n",
      "  warnings.warn(msg, DataConversionWarning)\n"
     ]
    },
    {
     "name": "stdout",
     "output_type": "stream",
     "text": [
      "Epoch: 0 Loss: 0.244661\n",
      "Epoch: 1 Loss: 0.0803636\n",
      "Epoch: 2 Loss: 0.0643819\n",
      "Epoch: 3 Loss: 0.0521874\n",
      "Epoch: 4 Loss: 0.0492202\n",
      "Epoch: 5 Loss: 0.04733\n",
      "Epoch: 6 Loss: 0.045788\n",
      "Epoch: 7 Loss: 0.0443011\n",
      "Epoch: 8 Loss: 0.0429985\n",
      "Epoch: 9 Loss: 0.041832\n",
      "Epoch: 10 Loss: 0.040826\n",
      "Epoch: 11 Loss: 0.0399039\n",
      "Epoch: 12 Loss: 0.0389975\n",
      "Epoch: 13 Loss: 0.0381926\n",
      "Epoch: 14 Loss: 0.0374306\n",
      "Epoch: 15 Loss: 0.0367219\n",
      "Epoch: 16 Loss: 0.0360719\n",
      "Epoch: 17 Loss: 0.0354679\n",
      "Epoch: 18 Loss: 0.0349051\n",
      "Epoch: 19 Loss: 0.0343681\n",
      "Epoch: 20 Loss: 0.0338098\n",
      "Epoch: 21 Loss: 0.0332831\n",
      "Epoch: 22 Loss: 0.032812\n",
      "Epoch: 23 Loss: 0.0323618\n",
      "Epoch: 24 Loss: 0.0319133\n",
      "Epoch: 25 Loss: 0.0315004\n",
      "Epoch: 26 Loss: 0.0311068\n",
      "Epoch: 27 Loss: 0.0307289\n",
      "Epoch: 28 Loss: 0.0303667\n",
      "Epoch: 29 Loss: 0.0300118\n",
      "Epoch: 30 Loss: 0.0296649\n",
      "Epoch: 31 Loss: 0.0293195\n",
      "Epoch: 32 Loss: 0.0289936\n",
      "Epoch: 33 Loss: 0.0286815\n",
      "Epoch: 34 Loss: 0.0283851\n",
      "Epoch: 35 Loss: 0.028104\n",
      "Epoch: 36 Loss: 0.0278405\n",
      "Epoch: 37 Loss: 0.0275873\n",
      "Epoch: 38 Loss: 0.027334\n",
      "Epoch: 39 Loss: 0.0270649\n",
      "Epoch: 40 Loss: 0.0268429\n",
      "Epoch: 41 Loss: 0.0266177\n",
      "Epoch: 42 Loss: 0.026402\n",
      "Epoch: 43 Loss: 0.0261982\n",
      "Epoch: 44 Loss: 0.0259976\n",
      "Epoch: 45 Loss: 0.0257991\n",
      "Epoch: 46 Loss: 0.0256065\n",
      "Epoch: 47 Loss: 0.0254199\n",
      "Epoch: 48 Loss: 0.0252397\n",
      "Epoch: 49 Loss: 0.0250657\n",
      "Epoch: 50 Loss: 0.0248977\n",
      "Epoch: 51 Loss: 0.0247355\n",
      "Epoch: 52 Loss: 0.0245792\n",
      "Epoch: 53 Loss: 0.0244264\n",
      "Epoch: 54 Loss: 0.0242779\n",
      "Epoch: 55 Loss: 0.0241346\n",
      "Epoch: 56 Loss: 0.0239945\n",
      "Epoch: 57 Loss: 0.0238572\n",
      "Epoch: 58 Loss: 0.0237215\n",
      "Epoch: 59 Loss: 0.0235871\n",
      "Epoch: 60 Loss: 0.0234563\n",
      "Epoch: 61 Loss: 0.0233166\n",
      "Epoch: 62 Loss: 0.0231813\n",
      "Epoch: 63 Loss: 0.0230454\n",
      "Epoch: 64 Loss: 0.022915\n",
      "Epoch: 65 Loss: 0.0227779\n",
      "Epoch: 66 Loss: 0.0226497\n",
      "Epoch: 67 Loss: 0.0225315\n",
      "Epoch: 68 Loss: 0.0224143\n",
      "Epoch: 69 Loss: 0.0222973\n",
      "Epoch: 70 Loss: 0.0221802\n",
      "Epoch: 71 Loss: 0.0220648\n",
      "Epoch: 72 Loss: 0.0219527\n",
      "Epoch: 73 Loss: 0.021841\n",
      "Epoch: 74 Loss: 0.02173\n",
      "Epoch: 75 Loss: 0.0216174\n",
      "Epoch: 76 Loss: 0.0215049\n",
      "Epoch: 77 Loss: 0.0213913\n",
      "Epoch: 78 Loss: 0.0212792\n",
      "Epoch: 79 Loss: 0.0211702\n",
      "Epoch: 80 Loss: 0.0210647\n",
      "Epoch: 81 Loss: 0.0209623\n",
      "Epoch: 82 Loss: 0.0208623\n",
      "Epoch: 83 Loss: 0.0207643\n",
      "Epoch: 84 Loss: 0.020669\n",
      "Epoch: 85 Loss: 0.0205757\n",
      "Epoch: 86 Loss: 0.0204843\n",
      "Epoch: 87 Loss: 0.0203959\n",
      "Epoch: 88 Loss: 0.0203094\n",
      "Epoch: 89 Loss: 0.0202219\n",
      "Epoch: 90 Loss: 0.0201352\n",
      "Epoch: 91 Loss: 0.0200496\n",
      "Epoch: 92 Loss: 0.0199657\n",
      "Epoch: 93 Loss: 0.0198836\n",
      "Epoch: 94 Loss: 0.0198023\n",
      "Epoch: 95 Loss: 0.0197222\n",
      "Epoch: 96 Loss: 0.019643\n",
      "Epoch: 97 Loss: 0.0195652\n",
      "Epoch: 98 Loss: 0.0194892\n",
      "Epoch: 99 Loss: 0.0194145\n",
      "Epoch: 100 Loss: 0.0193403\n",
      "Epoch: 101 Loss: 0.0192651\n",
      "Epoch: 102 Loss: 0.0191822\n",
      "Epoch: 103 Loss: 0.0190971\n",
      "Epoch: 104 Loss: 0.0190116\n",
      "Epoch: 105 Loss: 0.0189258\n",
      "Epoch: 106 Loss: 0.0188409\n",
      "Epoch: 107 Loss: 0.0187564\n",
      "Epoch: 108 Loss: 0.0186726\n",
      "Epoch: 109 Loss: 0.0185902\n",
      "Epoch: 110 Loss: 0.0185089\n",
      "Epoch: 111 Loss: 0.0184288\n",
      "Epoch: 112 Loss: 0.0183457\n",
      "Epoch: 113 Loss: 0.0182659\n",
      "Epoch: 114 Loss: 0.0181881\n",
      "Epoch: 115 Loss: 0.0181123\n",
      "Epoch: 116 Loss: 0.0180377\n",
      "Epoch: 117 Loss: 0.0179645\n",
      "Epoch: 118 Loss: 0.0178926\n",
      "Epoch: 119 Loss: 0.0178219\n",
      "Epoch: 120 Loss: 0.0177521\n",
      "Epoch: 121 Loss: 0.0176824\n",
      "Epoch: 122 Loss: 0.0176097\n",
      "Epoch: 123 Loss: 0.0175411\n",
      "Epoch: 124 Loss: 0.0174739\n",
      "Epoch: 125 Loss: 0.0174076\n",
      "Epoch: 126 Loss: 0.0173425\n",
      "Epoch: 127 Loss: 0.0172785\n",
      "Epoch: 128 Loss: 0.0172154\n",
      "Epoch: 129 Loss: 0.0171531\n",
      "Epoch: 130 Loss: 0.0170918\n",
      "Epoch: 131 Loss: 0.0170318\n",
      "Epoch: 132 Loss: 0.0169724\n",
      "Epoch: 133 Loss: 0.016913\n",
      "Epoch: 134 Loss: 0.0168537\n",
      "Epoch: 135 Loss: 0.0167947\n",
      "Epoch: 136 Loss: 0.016736\n",
      "Epoch: 137 Loss: 0.0166773\n",
      "Epoch: 138 Loss: 0.0166189\n",
      "Epoch: 139 Loss: 0.0165605\n",
      "Epoch: 140 Loss: 0.0165023\n",
      "Epoch: 141 Loss: 0.0164438\n",
      "Epoch: 142 Loss: 0.0163855\n",
      "Epoch: 143 Loss: 0.0163271\n",
      "Epoch: 144 Loss: 0.0162689\n",
      "Epoch: 145 Loss: 0.0162116\n",
      "Epoch: 146 Loss: 0.0161578\n",
      "Epoch: 147 Loss: 0.0161011\n",
      "Epoch: 148 Loss: 0.0160438\n",
      "Epoch: 149 Loss: 0.0159866\n"
     ]
    }
   ],
   "source": [
    "tf.reset_default_graph()\n",
    "ae = AutoEncoder({\n",
    "    'num_input' : 784,\n",
    "    'num_hidden' : [392, 196],\n",
    "    'input' : tf.placeholder(shape=(None, 784), dtype=tf.float32)\n",
    "})\n",
    "\n",
    "init = tf.global_variables_initializer()\n",
    "\n",
    "sess = tf.Session()\n",
    "sess.run(init)\n",
    "\n",
    "# Small preprocess\n",
    "buff = MinMaxScaler().fit_transform(data[0][0].reshape(data[0][0].shape[0], num_input))\n",
    "X, last, iterations = list(), 0, int(data[0][0].shape[0] / batch_size)\n",
    "for i in range(int(data[0][0].shape[0] / batch_size)):\n",
    "    if i != 0:\n",
    "        X.append(buff[last:i*batch_size])\n",
    "        last = i * batch_size\n",
    "\n",
    "# Training\n",
    "for i in range(epochs):\n",
    "    tmp = iter(X)\n",
    "    for j in range(iterations-1):\n",
    "        batch = next(tmp)\n",
    "        _, l = sess.run([ae.optimize, ae.loss], feed_dict={ae._input_tensor : batch})\n",
    "    print('Epoch:', i, 'Loss:', l)"
   ]
  },
  {
   "cell_type": "code",
   "execution_count": null,
   "metadata": {
    "collapsed": true
   },
   "outputs": [],
   "source": [
    "init = tf.global_variables_initializer()\n",
    "\n",
    "sess = tf.Session()\n",
    "sess.run(init)\n",
    "\n",
    "# Small preprocess\n",
    "buff = MinMaxScaler().fit_transform(data[0][0].reshape(data[0][0].shape[0], num_input))\n",
    "X, last, iterations = list(), 0, int(data[0][0].shape[0] / batch_size)\n",
    "for i in range(int(data[0][0].shape[0] / batch_size)):\n",
    "    if i != 0:\n",
    "        X.append(buff[last:i*batch_size])\n",
    "        last = i * batch_size\n",
    "          \n",
    "# Training            \n",
    "for i in range(epochs):\n",
    "    tmp = iter(X)\n",
    "    for j in range(iterations-1):\n",
    "        batch = next(tmp)\n",
    "        _, l = sess.run([optimizer_clipped, loss], feed_dict={input_tensor : batch})\n",
    "    print('Epoch:', i, 'Loss:', l)"
   ]
  },
  {
   "cell_type": "code",
   "execution_count": 93,
   "metadata": {},
   "outputs": [
    {
     "data": {
      "text/plain": [
       "<matplotlib.image.AxesImage at 0x7efe603790b8>"
      ]
     },
     "execution_count": 93,
     "metadata": {},
     "output_type": "execute_result"
    },
    {
     "data": {
      "image/png": "[encoded data removed]",
      "text/plain": [
       "<matplotlib.figure.Figure at 0x7efe32697d30>"
      ]
     },
     "metadata": {},
     "output_type": "display_data"
    }
   ],
   "source": [
    "rand = np.random.choice(2, size=[batch_size, num_input], p=[0.95, 0.05])\n",
    "plt.figure(figsize=(10, 10))\n",
    "plt.subplot(2,2,1)\n",
    "g = sess.run(ae._output_tensor, feed_dict={ ae._input_tensor : (X[5] + rand)})\n",
    "plt.imshow(g[0].reshape([28, 28]))\n",
    "plt.subplot(2,2,2)\n",
    "g = sess.run(ae._output_tensor, feed_dict={ ae._input_tensor : X[5]})\n",
    "plt.imshow(g[0].reshape([28, 28]))\n",
    "plt.subplot(2,2,3)\n",
    "plt.imshow((X[5][0] + rand[0]).reshape([28, 28]))\n",
    "plt.subplot(2,2,4)\n",
    "plt.imshow((X[5][0]).reshape([28, 28]))"
   ]
  },
  {
   "cell_type": "code",
   "execution_count": null,
   "metadata": {
    "collapsed": true
   },
   "outputs": [],
   "source": []
  }
 ],
 "metadata": {
  "kernelspec": {
   "display_name": "Python 3",
   "language": "python",
   "name": "python3"
  },
  "language_info": {
   "codemirror_mode": {
    "name": "ipython",
    "version": 3
   },
   "file_extension": ".py",
   "mimetype": "text/x-python",
   "name": "python",
   "nbconvert_exporter": "python",
   "pygments_lexer": "ipython3",
   "version": "3.6.3"
  }
 },
 "nbformat": 4,
 "nbformat_minor": 1
}
